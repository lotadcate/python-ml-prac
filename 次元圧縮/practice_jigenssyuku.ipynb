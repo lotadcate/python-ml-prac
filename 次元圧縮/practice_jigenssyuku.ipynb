{
 "cells": [
  {
   "cell_type": "markdown",
   "id": "69a8e8d9-f4ce-4a5a-9c9b-f1889e28b27b",
   "metadata": {
    "tags": []
   },
   "source": [
    "# 次元削減\n",
    "> データを見やすくする\n",
    "+ SVD ... 特異値分解\n",
    "  + PCAと似ている\n",
    "  + データを使って分析したい時\n",
    "+ UMAP \n",
    "  + 綺麗な平面図を使いたい時"
   ]
  },
  {
   "cell_type": "code",
   "execution_count": 1,
   "id": "4864736a-b426-41d8-9c6b-9f8f2c2b1dd4",
   "metadata": {},
   "outputs": [],
   "source": [
    "import pandas as pd\n",
    "import seaborn as sns\n",
    "import matplotlib.pyplot as plt"
   ]
  },
  {
   "cell_type": "code",
   "execution_count": 5,
   "id": "3976c52a-c7dc-4dff-80ef-03f16bf82e41",
   "metadata": {},
   "outputs": [
    {
     "data": {
      "text/html": [
       "<div>\n",
       "<style scoped>\n",
       "    .dataframe tbody tr th:only-of-type {\n",
       "        vertical-align: middle;\n",
       "    }\n",
       "\n",
       "    .dataframe tbody tr th {\n",
       "        vertical-align: top;\n",
       "    }\n",
       "\n",
       "    .dataframe thead th {\n",
       "        text-align: right;\n",
       "    }\n",
       "</style>\n",
       "<table border=\"1\" class=\"dataframe\">\n",
       "  <thead>\n",
       "    <tr style=\"text-align: right;\">\n",
       "      <th></th>\n",
       "      <th>コミュニケーション</th>\n",
       "      <th>リーダーシップ</th>\n",
       "      <th>プログラミング</th>\n",
       "      <th>ネットワーク知識</th>\n",
       "      <th>セキュリティ知識</th>\n",
       "    </tr>\n",
       "  </thead>\n",
       "  <tbody>\n",
       "    <tr>\n",
       "      <th>A</th>\n",
       "      <td>7</td>\n",
       "      <td>6</td>\n",
       "      <td>9</td>\n",
       "      <td>10</td>\n",
       "      <td>8</td>\n",
       "    </tr>\n",
       "    <tr>\n",
       "      <th>B</th>\n",
       "      <td>2</td>\n",
       "      <td>2</td>\n",
       "      <td>4</td>\n",
       "      <td>3</td>\n",
       "      <td>5</td>\n",
       "    </tr>\n",
       "    <tr>\n",
       "      <th>C</th>\n",
       "      <td>7</td>\n",
       "      <td>5</td>\n",
       "      <td>6</td>\n",
       "      <td>5</td>\n",
       "      <td>7</td>\n",
       "    </tr>\n",
       "    <tr>\n",
       "      <th>D</th>\n",
       "      <td>7</td>\n",
       "      <td>6</td>\n",
       "      <td>10</td>\n",
       "      <td>9</td>\n",
       "      <td>9</td>\n",
       "    </tr>\n",
       "    <tr>\n",
       "      <th>E</th>\n",
       "      <td>9</td>\n",
       "      <td>9</td>\n",
       "      <td>3</td>\n",
       "      <td>4</td>\n",
       "      <td>6</td>\n",
       "    </tr>\n",
       "    <tr>\n",
       "      <th>F</th>\n",
       "      <td>6</td>\n",
       "      <td>6</td>\n",
       "      <td>9</td>\n",
       "      <td>9</td>\n",
       "      <td>8</td>\n",
       "    </tr>\n",
       "    <tr>\n",
       "      <th>G</th>\n",
       "      <td>3</td>\n",
       "      <td>2</td>\n",
       "      <td>5</td>\n",
       "      <td>6</td>\n",
       "      <td>4</td>\n",
       "    </tr>\n",
       "    <tr>\n",
       "      <th>H</th>\n",
       "      <td>10</td>\n",
       "      <td>9</td>\n",
       "      <td>9</td>\n",
       "      <td>8</td>\n",
       "      <td>10</td>\n",
       "    </tr>\n",
       "    <tr>\n",
       "      <th>I</th>\n",
       "      <td>5</td>\n",
       "      <td>4</td>\n",
       "      <td>8</td>\n",
       "      <td>5</td>\n",
       "      <td>7</td>\n",
       "    </tr>\n",
       "    <tr>\n",
       "      <th>J</th>\n",
       "      <td>2</td>\n",
       "      <td>2</td>\n",
       "      <td>4</td>\n",
       "      <td>3</td>\n",
       "      <td>2</td>\n",
       "    </tr>\n",
       "    <tr>\n",
       "      <th>K</th>\n",
       "      <td>4</td>\n",
       "      <td>3</td>\n",
       "      <td>5</td>\n",
       "      <td>8</td>\n",
       "      <td>7</td>\n",
       "    </tr>\n",
       "    <tr>\n",
       "      <th>L</th>\n",
       "      <td>9</td>\n",
       "      <td>10</td>\n",
       "      <td>7</td>\n",
       "      <td>7</td>\n",
       "      <td>8</td>\n",
       "    </tr>\n",
       "    <tr>\n",
       "      <th>M</th>\n",
       "      <td>4</td>\n",
       "      <td>4</td>\n",
       "      <td>5</td>\n",
       "      <td>6</td>\n",
       "      <td>6</td>\n",
       "    </tr>\n",
       "    <tr>\n",
       "      <th>N</th>\n",
       "      <td>5</td>\n",
       "      <td>4</td>\n",
       "      <td>7</td>\n",
       "      <td>7</td>\n",
       "      <td>5</td>\n",
       "    </tr>\n",
       "    <tr>\n",
       "      <th>O</th>\n",
       "      <td>8</td>\n",
       "      <td>9</td>\n",
       "      <td>6</td>\n",
       "      <td>8</td>\n",
       "      <td>8</td>\n",
       "    </tr>\n",
       "  </tbody>\n",
       "</table>\n",
       "</div>"
      ],
      "text/plain": [
       "   コミュニケーション  リーダーシップ  プログラミング  ネットワーク知識  セキュリティ知識\n",
       "A          7        6        9        10         8\n",
       "B          2        2        4         3         5\n",
       "C          7        5        6         5         7\n",
       "D          7        6       10         9         9\n",
       "E          9        9        3         4         6\n",
       "F          6        6        9         9         8\n",
       "G          3        2        5         6         4\n",
       "H         10        9        9         8        10\n",
       "I          5        4        8         5         7\n",
       "J          2        2        4         3         2\n",
       "K          4        3        5         8         7\n",
       "L          9       10        7         7         8\n",
       "M          4        4        5         6         6\n",
       "N          5        4        7         7         5\n",
       "O          8        9        6         8         8"
      ]
     },
     "execution_count": 5,
     "metadata": {},
     "output_type": "execute_result"
    }
   ],
   "source": [
    "df = pd.read_csv('4-1_skill_level.csv', index_col=0)\n",
    "df\n",
    "# index_col=0"
   ]
  },
  {
   "cell_type": "code",
   "execution_count": 27,
   "id": "734f989e-d5e9-437c-808f-d7e298beac75",
   "metadata": {},
   "outputs": [
    {
     "data": {
      "text/plain": [
       "'A'"
      ]
     },
     "execution_count": 27,
     "metadata": {},
     "output_type": "execute_result"
    }
   ],
   "source": [
    "df.index[0]"
   ]
  },
  {
   "cell_type": "code",
   "execution_count": 28,
   "id": "f762401c-adf3-434a-bcfa-1b79abd15544",
   "metadata": {},
   "outputs": [
    {
     "data": {
      "text/plain": [
       "'B'"
      ]
     },
     "execution_count": 28,
     "metadata": {},
     "output_type": "execute_result"
    }
   ],
   "source": [
    "df.index[1]"
   ]
  },
  {
   "cell_type": "code",
   "execution_count": 29,
   "id": "3f0b6318-6cc2-4f7a-b290-b4b6fe3e46b3",
   "metadata": {},
   "outputs": [
    {
     "data": {
      "text/plain": [
       "'C'"
      ]
     },
     "execution_count": 29,
     "metadata": {},
     "output_type": "execute_result"
    }
   ],
   "source": [
    "df.index[2]"
   ]
  },
  {
   "cell_type": "markdown",
   "id": "fb47f934-0587-46a6-8986-b2aea97a7f2e",
   "metadata": {
    "tags": []
   },
   "source": [
    "# svd"
   ]
  },
  {
   "cell_type": "code",
   "execution_count": 10,
   "id": "89ff4cd1-34ea-42d4-9bb3-46d21547ddb8",
   "metadata": {},
   "outputs": [],
   "source": [
    "from sklearn.decomposition import TruncatedSVD"
   ]
  },
  {
   "cell_type": "code",
   "execution_count": 14,
   "id": "10e150a7-d1a5-4fa0-87e0-acc7bafd971f",
   "metadata": {},
   "outputs": [
    {
     "data": {
      "text/plain": [
       "array([[18.01133639, -2.08959984],\n",
       "       [ 7.27762252, -1.34850332],\n",
       "       [13.43360847,  0.88719484],\n",
       "       [18.48263999, -2.2094704 ],\n",
       "       [13.5780639 ,  6.1876989 ],\n",
       "       [17.11594851, -2.12956552],\n",
       "       [ 9.08409326, -2.55117285],\n",
       "       [20.52943048,  1.85110185],\n",
       "       [13.08955913, -1.59539868],\n",
       "       [ 5.84600801, -1.13171928],\n",
       "       [12.27621495, -2.53269306],\n",
       "       [18.16236577,  3.51346277],\n",
       "       [11.26994049, -0.99784624],\n",
       "       [12.60578035, -1.82569588],\n",
       "       [17.33721911,  2.48094994]])"
      ]
     },
     "execution_count": 14,
     "metadata": {},
     "output_type": "execute_result"
    }
   ],
   "source": [
    "# create model, setting n_components\n",
    "svd_model = TruncatedSVD(n_components=2)\n",
    "\n",
    "# dimention decreased\n",
    "# the amount of information has decreased as well\n",
    "# fit_transform()\n",
    "vector = svd_model.fit_transform(df)\n",
    "vector"
   ]
  },
  {
   "cell_type": "code",
   "execution_count": 19,
   "id": "31546b00-7eec-4d93-8636-35c73b656c09",
   "metadata": {},
   "outputs": [],
   "source": [
    "# pull x_culumn, y_culumn\n",
    "X = vector[:, 0]\n",
    "Y = vector[:, 1]"
   ]
  },
  {
   "cell_type": "code",
   "execution_count": 47,
   "id": "45e20209-5096-4e2c-9d63-8613cb05fde4",
   "metadata": {},
   "outputs": [
    {
     "name": "stdout",
     "output_type": "stream",
     "text": [
      "A 0 (18.01133638923489, -2.0895998367579995)\n",
      "B 1 (7.277622522306346, -1.3485033159010587)\n",
      "C 2 (13.433608469775058, 0.8871948405253832)\n",
      "D 3 (18.48263998527272, -2.209470404736882)\n",
      "E 4 (13.57806390192065, 6.18769889969454)\n",
      "F 5 (17.115948505274936, -2.129565524441987)\n",
      "G 6 (9.084093259075688, -2.5511728480069293)\n",
      "H 7 (20.529430476928287, 1.8511018457299282)\n",
      "I 8 (13.08955913417673, -1.5953986830399045)\n",
      "J 9 (5.8460080139268165, -1.1317192821442759)\n",
      "K 10 (12.276214953957192, -2.5326930609725973)\n",
      "L 11 (18.16236577441012, 3.513462768092997)\n",
      "M 12 (11.269940491348121, -0.997846242297711)\n",
      "N 13 (12.605780345020587, -1.825695884136149)\n",
      "O 14 (17.337219114013216, 2.4809499433737265)\n"
     ]
    },
    {
     "data": {
      "image/png": "[encoded data removed]",
      "text/plain": [
       "<Figure size 432x432 with 1 Axes>"
      ]
     },
     "metadata": {},
     "output_type": "display_data"
    }
   ],
   "source": [
    "# setting for plot\n",
    "# sns.scatterplot()\n",
    "plt.figure(figsize=(6, 6))\n",
    "sns.scatterplot(x=X, y=Y)\n",
    "\n",
    "# annotation \n",
    "# plt.annotate()\n",
    "for i, (x_an, y_an) in enumerate(vector):\n",
    "    plt.annotate(df.index[i], (x_an, y_an))\n",
    "\n",
    "# use zip\n",
    "for i, (x_an, y_an) in enumerate(zip(X, Y)):\n",
    "    print(df.index[i], i, (x_an, y_an))"
   ]
  },
  {
   "cell_type": "markdown",
   "id": "6a5af4be-f74f-44de-98de-65c5f78b7438",
   "metadata": {},
   "source": [
    "> 5次元から２次元に変わった\n",
    "\n",
    "> どういう二次元かどうか（x、yの意味）は人間が考える\n",
    "\n",
    "> 総合点がたいてい重要（x軸）\n",
    "\n",
    "> y軸　→ ```model.components_``` を使う"
   ]
  },
  {
   "cell_type": "code",
   "execution_count": 38,
   "id": "b3100944-7d49-44ea-b427-d0a7443f31fd",
   "metadata": {},
   "outputs": [
    {
     "data": {
      "text/plain": [
       "(array([0.43065824, 0.40038966, 0.4588284 , 0.46472964, 0.47720484]),\n",
       " array([ 0.4623948 ,  0.61772725, -0.47003834, -0.42242911, -0.07226134]))"
      ]
     },
     "execution_count": 38,
     "metadata": {},
     "output_type": "execute_result"
    }
   ],
   "source": [
    "X_comp, Y_comp = svd_model.components_\n",
    "X_comp, Y_comp"
   ]
  },
  {
   "cell_type": "code",
   "execution_count": 49,
   "id": "d9a28ca4-ee00-422c-b545-668ce9189dbc",
   "metadata": {},
   "outputs": [
    {
     "name": "stdout",
     "output_type": "stream",
     "text": [
      "コミュニケーション 0 (0.4306582409517603, 0.4623948013447094)\n",
      "リーダーシップ 1 (0.400389659533827, 0.6177272467678485)\n",
      "プログラミング 2 (0.4588284029195104, -0.4700383370540097)\n",
      "ネットワーク知識 3 (0.4647296430081939, -0.42242911366072144)\n",
      "セキュリティ知識 4 (0.47720483612650955, -0.07226134458559427)\n"
     ]
    },
    {
     "data": {
      "image/png": "[encoded data removed]",
      "text/plain": [
       "<Figure size 432x432 with 1 Axes>"
      ]
     },
     "metadata": {},
     "output_type": "display_data"
    }
   ],
   "source": [
    "# setting for plot\n",
    "# sns.scatterplot()\n",
    "sns.set(font=\"Hiragino Maru Gothic Pro\")\n",
    "plt.figure(figsize=(6, 6))\n",
    "sns.scatterplot(x=X_comp, y=Y_comp)\n",
    "\n",
    "# annotation \n",
    "# plt.annotate()\n",
    "for i, (x_an, y_an) in enumerate(zip(X_comp, Y_comp)):\n",
    "    plt.annotate(df.columns[i], (x_an, y_an))\n",
    "\n",
    "\n",
    "for i, (x_an, y_an) in enumerate(zip(X_comp, Y_comp)):\n",
    "    print(df.columns[i], i, (x_an, y_an))"
   ]
  },
  {
   "cell_type": "code",
   "execution_count": 50,
   "id": "4991a7b5-f2dd-491a-a728-68c4dfabe03f",
   "metadata": {},
   "outputs": [
    {
     "data": {
      "image/png": "[encoded data removed]",
      "text/plain": [
       "<Figure size 432x432 with 1 Axes>"
      ]
     },
     "metadata": {},
     "output_type": "display_data"
    }
   ],
   "source": [
    "# setting for plot\n",
    "# sns.scatterplot()\n",
    "plt.figure(figsize=(6, 6))\n",
    "sns.scatterplot(x=X, y=Y)\n",
    "\n",
    "# annotation \n",
    "# plt.annotate()\n",
    "for i, (x_an, y_an) in enumerate(vector):\n",
    "    plt.annotate(df.index[i], (x_an, y_an))"
   ]
  },
  {
   "cell_type": "markdown",
   "id": "f78094db-64cf-4f2e-95be-008285746626",
   "metadata": {},
   "source": [
    "> x軸 ... 能力\n",
    "\n",
    "> y軸 ... 上の方がヒューマンスキル、下の方がITスキルより"
   ]
  },
  {
   "cell_type": "code",
   "execution_count": 53,
   "id": "01f9dd5e-3697-471e-afcc-cd8c3d76f8fd",
   "metadata": {},
   "outputs": [
    {
     "data": {
      "text/plain": [
       "array([0.67907875, 0.247028  ])"
      ]
     },
     "execution_count": 53,
     "metadata": {},
     "output_type": "execute_result"
    }
   ],
   "source": [
    "# 寄与度\n",
    "svd_model.explained_variance_ratio_\n",
    "\n",
    "# 第一主成分　x軸　６８％\n",
    "# 第二主成分　y軸 24%\n",
    "# 二次元にしたけどデータ量は92(=68+24)%残っている"
   ]
  },
  {
   "cell_type": "markdown",
   "id": "80fcfe20-901d-4a29-9615-b2b39524158c",
   "metadata": {
    "tags": []
   },
   "source": [
    "# UMAP"
   ]
  },
  {
   "cell_type": "code",
   "execution_count": 57,
   "id": "361208e4-577e-40a7-b0e2-d6eebbcdd6af",
   "metadata": {},
   "outputs": [
    {
     "name": "stdout",
     "output_type": "stream",
     "text": [
      "Collecting umap-learn\n",
      "  Using cached umap-learn-0.5.3.tar.gz (88 kB)\n",
      "  Preparing metadata (setup.py) ... \u001b[?25ldone\n",
      "\u001b[?25hRequirement already satisfied: numpy>=1.17 in /Users/aito1/py-ml/サンプルコード/.env/lib/python3.9/site-packages (from umap-learn) (1.22.4)\n",
      "Requirement already satisfied: scikit-learn>=0.22 in /Users/aito1/py-ml/サンプルコード/.env/lib/python3.9/site-packages (from umap-learn) (1.1.1)\n",
      "Requirement already satisfied: scipy>=1.0 in /Users/aito1/py-ml/サンプルコード/.env/lib/python3.9/site-packages (from umap-learn) (1.8.1)\n",
      "Collecting numba>=0.49\n",
      "  Using cached numba-0.55.2-cp39-cp39-macosx_10_14_x86_64.whl (2.3 MB)\n",
      "Collecting pynndescent>=0.5\n",
      "  Using cached pynndescent-0.5.7.tar.gz (1.1 MB)\n",
      "  Preparing metadata (setup.py) ... \u001b[?25ldone\n",
      "\u001b[?25hCollecting tqdm\n",
      "  Using cached tqdm-4.64.0-py2.py3-none-any.whl (78 kB)\n",
      "Collecting llvmlite<0.39,>=0.38.0rc1\n",
      "  Using cached llvmlite-0.38.1-cp39-cp39-macosx_10_9_x86_64.whl (25.5 MB)\n",
      "Requirement already satisfied: setuptools in /Users/aito1/py-ml/サンプルコード/.env/lib/python3.9/site-packages (from numba>=0.49->umap-learn) (60.10.0)\n",
      "Requirement already satisfied: joblib>=0.11 in /Users/aito1/py-ml/サンプルコード/.env/lib/python3.9/site-packages (from pynndescent>=0.5->umap-learn) (1.1.0)\n",
      "Requirement already satisfied: threadpoolctl>=2.0.0 in /Users/aito1/py-ml/サンプルコード/.env/lib/python3.9/site-packages (from scikit-learn>=0.22->umap-learn) (3.1.0)\n",
      "Using legacy 'setup.py install' for umap-learn, since package 'wheel' is not installed.\n",
      "Using legacy 'setup.py install' for pynndescent, since package 'wheel' is not installed.\n",
      "Installing collected packages: tqdm, llvmlite, numba, pynndescent, umap-learn\n",
      "  Running setup.py install for pynndescent ... \u001b[?25ldone\n",
      "\u001b[?25h  Running setup.py install for umap-learn ... \u001b[?25ldone\n",
      "\u001b[?25hSuccessfully installed llvmlite-0.38.1 numba-0.55.2 pynndescent-0.5.7 tqdm-4.64.0 umap-learn-0.5.3\n",
      "\u001b[33mWARNING: You are using pip version 22.0.4; however, version 22.1.1 is available.\n",
      "You should consider upgrading via the '/Users/aito1/py-ml/サンプルコード/.env/bin/python3.9 -m pip install --upgrade pip' command.\u001b[0m\u001b[33m\n",
      "\u001b[0m"
     ]
    }
   ],
   "source": [
    "!pip3 install umap-learn"
   ]
  },
  {
   "cell_type": "code",
   "execution_count": 68,
   "id": "3b8f1dd3-471a-464b-a8a2-f0f5f26dffa3",
   "metadata": {},
   "outputs": [],
   "source": [
    "# use umap-learn\n",
    "import umap.umap_ as umap\n",
    "\n",
    "# when using umap\n",
    "from scipy.sparse.csgraph import connected_components"
   ]
  },
  {
   "cell_type": "code",
   "execution_count": 66,
   "id": "e7a9a7fb-20f7-424f-812b-e9163b841db6",
   "metadata": {},
   "outputs": [],
   "source": [
    "# create model, setting n_components, n_neighbors\n",
    "# focus on n_neighbors\n",
    "umap_model = umap.UMAP(n_components=2, n_neighbors=6)\n",
    "\n",
    "vector = umap_model.fit_transform(df)"
   ]
  },
  {
   "cell_type": "code",
   "execution_count": 61,
   "id": "af200101-5c5b-497b-bb81-4b0afced9c72",
   "metadata": {},
   "outputs": [],
   "source": [
    "# pull x_culumn, y_culumn\n",
    "X = vector[:, 0]\n",
    "Y = vector[:, 1]"
   ]
  },
  {
   "cell_type": "code",
   "execution_count": 63,
   "id": "eaadace0-0ed7-423e-afbd-03f20e4b0384",
   "metadata": {},
   "outputs": [
    {
     "data": {
      "image/png": "[encoded data removed]",
      "text/plain": [
       "<Figure size 432x432 with 1 Axes>"
      ]
     },
     "metadata": {},
     "output_type": "display_data"
    }
   ],
   "source": [
    "# setting for plot\n",
    "# sns.scatterplot()\n",
    "sns.set(font=\"Hiragino Maru Gothic Pro\")\n",
    "plt.figure(figsize=(6, 6))\n",
    "sns.scatterplot(x=X, y=Y)\n",
    "\n",
    "# annotation \n",
    "# plt.annotate()\n",
    "for i, (x_an, y_an) in enumerate(vector):\n",
    "    plt.annotate(df.index[i], (x_an, y_an))"
   ]
  }
 ],
 "metadata": {
  "kernelspec": {
   "display_name": "Python 3 (ipykernel)",
   "language": "python",
   "name": "python3"
  },
  "language_info": {
   "codemirror_mode": {
    "name": "ipython",
    "version": 3
   },
   "file_extension": ".py",
   "mimetype": "text/x-python",
   "name": "python",
   "nbconvert_exporter": "python",
   "pygments_lexer": "ipython3",
   "version": "3.9.12"
  }
 },
 "nbformat": 4,
 "nbformat_minor": 5
}
