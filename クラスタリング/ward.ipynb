{
 "cells": [
  {
   "cell_type": "markdown",
   "id": "4fa16a3c-33ea-413f-8c42-7eaae652297c",
   "metadata": {},
   "source": [
    "# 階層型クラスタリング"
   ]
  },
  {
   "cell_type": "markdown",
   "id": "a9cebdc3-cd95-4639-af10-2c55107b6fec",
   "metadata": {},
   "source": [
    "> とりあえずword法知っとけ"
   ]
  },
  {
   "cell_type": "code",
   "execution_count": 2,
   "id": "bac51a5e-0136-49bb-b8f5-99b285e4b9cf",
   "metadata": {},
   "outputs": [],
   "source": [
    "import pandas as pd\n",
    "import seaborn as sns\n",
    "import matplotlib.pyplot as plt"
   ]
  },
  {
   "cell_type": "code",
   "execution_count": 8,
   "id": "63576a31-eea1-4511-aaa2-68c93f3b4070",
   "metadata": {},
   "outputs": [],
   "source": [
    "df = pd.read_csv('4-2_skill_level.csv', index_col=0)"
   ]
  },
  {
   "cell_type": "code",
   "execution_count": 13,
   "id": "fa82304e-d6cc-4c19-baab-e34755ac531d",
   "metadata": {},
   "outputs": [
    {
     "data": {
      "text/html": [
       "<div>\n",
       "<style scoped>\n",
       "    .dataframe tbody tr th:only-of-type {\n",
       "        vertical-align: middle;\n",
       "    }\n",
       "\n",
       "    .dataframe tbody tr th {\n",
       "        vertical-align: top;\n",
       "    }\n",
       "\n",
       "    .dataframe thead th {\n",
       "        text-align: right;\n",
       "    }\n",
       "</style>\n",
       "<table border=\"1\" class=\"dataframe\">\n",
       "  <thead>\n",
       "    <tr style=\"text-align: right;\">\n",
       "      <th></th>\n",
       "      <th>コミュニケーション</th>\n",
       "      <th>リーダーシップ</th>\n",
       "      <th>プログラミング</th>\n",
       "      <th>ネットワーク知識</th>\n",
       "      <th>セキュリティ知識</th>\n",
       "    </tr>\n",
       "  </thead>\n",
       "  <tbody>\n",
       "    <tr>\n",
       "      <th>A</th>\n",
       "      <td>7</td>\n",
       "      <td>6</td>\n",
       "      <td>9</td>\n",
       "      <td>10</td>\n",
       "      <td>8</td>\n",
       "    </tr>\n",
       "    <tr>\n",
       "      <th>B</th>\n",
       "      <td>2</td>\n",
       "      <td>2</td>\n",
       "      <td>4</td>\n",
       "      <td>3</td>\n",
       "      <td>5</td>\n",
       "    </tr>\n",
       "    <tr>\n",
       "      <th>C</th>\n",
       "      <td>7</td>\n",
       "      <td>5</td>\n",
       "      <td>6</td>\n",
       "      <td>5</td>\n",
       "      <td>7</td>\n",
       "    </tr>\n",
       "    <tr>\n",
       "      <th>D</th>\n",
       "      <td>7</td>\n",
       "      <td>6</td>\n",
       "      <td>10</td>\n",
       "      <td>9</td>\n",
       "      <td>9</td>\n",
       "    </tr>\n",
       "    <tr>\n",
       "      <th>E</th>\n",
       "      <td>9</td>\n",
       "      <td>9</td>\n",
       "      <td>3</td>\n",
       "      <td>4</td>\n",
       "      <td>6</td>\n",
       "    </tr>\n",
       "    <tr>\n",
       "      <th>F</th>\n",
       "      <td>6</td>\n",
       "      <td>6</td>\n",
       "      <td>9</td>\n",
       "      <td>9</td>\n",
       "      <td>8</td>\n",
       "    </tr>\n",
       "    <tr>\n",
       "      <th>G</th>\n",
       "      <td>3</td>\n",
       "      <td>2</td>\n",
       "      <td>5</td>\n",
       "      <td>6</td>\n",
       "      <td>4</td>\n",
       "    </tr>\n",
       "    <tr>\n",
       "      <th>H</th>\n",
       "      <td>10</td>\n",
       "      <td>9</td>\n",
       "      <td>9</td>\n",
       "      <td>8</td>\n",
       "      <td>10</td>\n",
       "    </tr>\n",
       "    <tr>\n",
       "      <th>I</th>\n",
       "      <td>5</td>\n",
       "      <td>4</td>\n",
       "      <td>8</td>\n",
       "      <td>5</td>\n",
       "      <td>7</td>\n",
       "    </tr>\n",
       "    <tr>\n",
       "      <th>J</th>\n",
       "      <td>2</td>\n",
       "      <td>2</td>\n",
       "      <td>4</td>\n",
       "      <td>3</td>\n",
       "      <td>2</td>\n",
       "    </tr>\n",
       "    <tr>\n",
       "      <th>K</th>\n",
       "      <td>4</td>\n",
       "      <td>3</td>\n",
       "      <td>5</td>\n",
       "      <td>8</td>\n",
       "      <td>7</td>\n",
       "    </tr>\n",
       "    <tr>\n",
       "      <th>L</th>\n",
       "      <td>9</td>\n",
       "      <td>10</td>\n",
       "      <td>7</td>\n",
       "      <td>7</td>\n",
       "      <td>8</td>\n",
       "    </tr>\n",
       "    <tr>\n",
       "      <th>M</th>\n",
       "      <td>4</td>\n",
       "      <td>4</td>\n",
       "      <td>5</td>\n",
       "      <td>6</td>\n",
       "      <td>6</td>\n",
       "    </tr>\n",
       "    <tr>\n",
       "      <th>N</th>\n",
       "      <td>5</td>\n",
       "      <td>4</td>\n",
       "      <td>7</td>\n",
       "      <td>7</td>\n",
       "      <td>5</td>\n",
       "    </tr>\n",
       "    <tr>\n",
       "      <th>O</th>\n",
       "      <td>8</td>\n",
       "      <td>9</td>\n",
       "      <td>6</td>\n",
       "      <td>8</td>\n",
       "      <td>8</td>\n",
       "    </tr>\n",
       "  </tbody>\n",
       "</table>\n",
       "</div>"
      ],
      "text/plain": [
       "   コミュニケーション  リーダーシップ  プログラミング  ネットワーク知識  セキュリティ知識\n",
       "A          7        6        9        10         8\n",
       "B          2        2        4         3         5\n",
       "C          7        5        6         5         7\n",
       "D          7        6       10         9         9\n",
       "E          9        9        3         4         6\n",
       "F          6        6        9         9         8\n",
       "G          3        2        5         6         4\n",
       "H         10        9        9         8        10\n",
       "I          5        4        8         5         7\n",
       "J          2        2        4         3         2\n",
       "K          4        3        5         8         7\n",
       "L          9       10        7         7         8\n",
       "M          4        4        5         6         6\n",
       "N          5        4        7         7         5\n",
       "O          8        9        6         8         8"
      ]
     },
     "execution_count": 13,
     "metadata": {},
     "output_type": "execute_result"
    }
   ],
   "source": [
    "df"
   ]
  },
  {
   "cell_type": "code",
   "execution_count": 5,
   "id": "ea5b4da1-7b58-429a-acef-9c578a4bebac",
   "metadata": {},
   "outputs": [],
   "source": [
    "# clustering\n",
    "from scipy.cluster.hierarchy import linkage, dendrogram, fcluster"
   ]
  },
  {
   "cell_type": "code",
   "execution_count": 10,
   "id": "b2d754e6-843c-4c48-91c4-e05ab1cd4f44",
   "metadata": {},
   "outputs": [
    {
     "data": {
      "text/plain": [
       "array([[ 0.        ,  5.        ,  1.41421356,  2.        ],\n",
       "       [ 3.        , 15.        ,  1.82574186,  3.        ],\n",
       "       [11.        , 14.        ,  2.        ,  2.        ],\n",
       "       [10.        , 12.        ,  2.44948974,  2.        ],\n",
       "       [ 1.        ,  9.        ,  3.        ,  2.        ],\n",
       "       [ 2.        ,  8.        ,  3.        ,  2.        ],\n",
       "       [13.        , 18.        ,  3.16227766,  3.        ],\n",
       "       [ 6.        , 21.        ,  3.87298335,  4.        ],\n",
       "       [ 7.        , 17.        ,  4.163332  ,  3.        ],\n",
       "       [20.        , 22.        ,  5.91607978,  6.        ],\n",
       "       [ 4.        , 23.        ,  7.69198717,  4.        ],\n",
       "       [19.        , 24.        ,  9.5131488 ,  8.        ],\n",
       "       [16.        , 25.        , 10.52321696,  7.        ],\n",
       "       [26.        , 27.        , 20.32720438, 15.        ]])"
      ]
     },
     "execution_count": 10,
     "metadata": {},
     "output_type": "execute_result"
    }
   ],
   "source": [
    "linkage_result = linkage(df, method=\"ward\", metric=\"euclidean\")\n",
    "linkage_result "
   ]
  },
  {
   "cell_type": "code",
   "execution_count": 12,
   "id": "f7ade123-3f25-4006-bec3-234bcfc1e615",
   "metadata": {},
   "outputs": [
    {
     "data": {
      "image/png": "[encoded data removed]",
      "text/plain": [
       "<Figure size 432x288 with 1 Axes>"
      ]
     },
     "metadata": {},
     "output_type": "display_data"
    }
   ],
   "source": [
    "sns.set()\n",
    "dendrogram(linkage_result, labels=df.index)\n",
    "plt.show()"
   ]
  },
  {
   "cell_type": "code",
   "execution_count": 14,
   "id": "066aec76-dee8-4369-96eb-16f86e561d3d",
   "metadata": {},
   "outputs": [
    {
     "data": {
      "image/png": "[encoded data removed]",
      "text/plain": [
       "<Figure size 432x288 with 1 Axes>"
      ]
     },
     "metadata": {},
     "output_type": "display_data"
    }
   ],
   "source": [
    "linkage_result = linkage(df, method=\"single\", metric=\"euclidean\")\n",
    "sns.set()\n",
    "dendrogram(linkage_result, labels=df.index)\n",
    "plt.show()"
   ]
  },
  {
   "cell_type": "code",
   "execution_count": null,
   "id": "c8a6f2e0-2e89-44d8-a9d7-85066e5b9092",
   "metadata": {},
   "outputs": [],
   "source": []
  }
 ],
 "metadata": {
  "kernelspec": {
   "display_name": "Python 3 (ipykernel)",
   "language": "python",
   "name": "python3"
  },
  "language_info": {
   "codemirror_mode": {
    "name": "ipython",
    "version": 3
   },
   "file_extension": ".py",
   "mimetype": "text/x-python",
   "name": "python",
   "nbconvert_exporter": "python",
   "pygments_lexer": "ipython3",
   "version": "3.9.12"
  }
 },
 "nbformat": 4,
 "nbformat_minor": 5
}
