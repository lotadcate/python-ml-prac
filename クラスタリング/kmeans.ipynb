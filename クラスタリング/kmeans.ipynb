{
 "cells": [
  {
   "cell_type": "markdown",
   "id": "46f69418-1c11-445e-b159-0e8270cc72eb",
   "metadata": {},
   "source": [
    "# クラスタリング\n",
    "+ 非階層型クラスタリング\n",
    "  + K-means法\n",
    "+ 階層型クラスタリング\n",
    "  + ウォード法"
   ]
  },
  {
   "cell_type": "code",
   "execution_count": 1,
   "id": "f6359c4b-1f20-40a8-9824-0df273675965",
   "metadata": {},
   "outputs": [],
   "source": [
    "import pandas as pd\n",
    "import seaborn as sns\n",
    "import matplotlib.pyplot as plt"
   ]
  },
  {
   "cell_type": "code",
   "execution_count": 3,
   "id": "03f9c1c7-8951-484d-9ffe-68109ad61a6f",
   "metadata": {},
   "outputs": [
    {
     "data": {
      "text/html": [
       "<div>\n",
       "<style scoped>\n",
       "    .dataframe tbody tr th:only-of-type {\n",
       "        vertical-align: middle;\n",
       "    }\n",
       "\n",
       "    .dataframe tbody tr th {\n",
       "        vertical-align: top;\n",
       "    }\n",
       "\n",
       "    .dataframe thead th {\n",
       "        text-align: right;\n",
       "    }\n",
       "</style>\n",
       "<table border=\"1\" class=\"dataframe\">\n",
       "  <thead>\n",
       "    <tr style=\"text-align: right;\">\n",
       "      <th></th>\n",
       "      <th>コミュニケーション</th>\n",
       "      <th>リーダーシップ</th>\n",
       "      <th>プログラミング</th>\n",
       "      <th>ネットワーク知識</th>\n",
       "      <th>セキュリティ知識</th>\n",
       "    </tr>\n",
       "  </thead>\n",
       "  <tbody>\n",
       "    <tr>\n",
       "      <th>A</th>\n",
       "      <td>7</td>\n",
       "      <td>6</td>\n",
       "      <td>9</td>\n",
       "      <td>10</td>\n",
       "      <td>8</td>\n",
       "    </tr>\n",
       "    <tr>\n",
       "      <th>B</th>\n",
       "      <td>2</td>\n",
       "      <td>2</td>\n",
       "      <td>4</td>\n",
       "      <td>3</td>\n",
       "      <td>5</td>\n",
       "    </tr>\n",
       "    <tr>\n",
       "      <th>C</th>\n",
       "      <td>7</td>\n",
       "      <td>5</td>\n",
       "      <td>6</td>\n",
       "      <td>5</td>\n",
       "      <td>7</td>\n",
       "    </tr>\n",
       "    <tr>\n",
       "      <th>D</th>\n",
       "      <td>7</td>\n",
       "      <td>6</td>\n",
       "      <td>10</td>\n",
       "      <td>9</td>\n",
       "      <td>9</td>\n",
       "    </tr>\n",
       "    <tr>\n",
       "      <th>E</th>\n",
       "      <td>9</td>\n",
       "      <td>9</td>\n",
       "      <td>3</td>\n",
       "      <td>4</td>\n",
       "      <td>6</td>\n",
       "    </tr>\n",
       "  </tbody>\n",
       "</table>\n",
       "</div>"
      ],
      "text/plain": [
       "   コミュニケーション  リーダーシップ  プログラミング  ネットワーク知識  セキュリティ知識\n",
       "A          7        6        9        10         8\n",
       "B          2        2        4         3         5\n",
       "C          7        5        6         5         7\n",
       "D          7        6       10         9         9\n",
       "E          9        9        3         4         6"
      ]
     },
     "execution_count": 3,
     "metadata": {},
     "output_type": "execute_result"
    }
   ],
   "source": [
    "df = pd.read_csv('4-2_skill_level.csv', index_col=0)\n",
    "df.head()"
   ]
  },
  {
   "cell_type": "code",
   "execution_count": 4,
   "id": "e52d122e-add4-4ec0-9154-4d8c9dd475b0",
   "metadata": {},
   "outputs": [],
   "source": [
    "from sklearn.decomposition import TruncatedSVD"
   ]
  },
  {
   "cell_type": "markdown",
   "id": "bcd4d16c-2ad8-405f-a6ec-e40fac8e1524",
   "metadata": {},
   "source": [
    "# Kmeans"
   ]
  },
  {
   "cell_type": "code",
   "execution_count": 28,
   "id": "e582299d-3ac6-4753-9487-aaee59e26744",
   "metadata": {},
   "outputs": [],
   "source": [
    "from sklearn.cluster import KMeans\n",
    "vec = KMeans(n_clusters=4, max_iter=1000)\n",
    "group_num = vec.fit_predict(df)"
   ]
  },
  {
   "cell_type": "markdown",
   "id": "059daf69-1c95-47bb-a70a-ca2c766e64a6",
   "metadata": {},
   "source": [
    "> 何グループに分けるのかは人間が指定\n",
    "\n",
    "> 実行の度に結果が変わる"
   ]
  },
  {
   "cell_type": "code",
   "execution_count": 29,
   "id": "04a84243-cd48-4ab5-bea8-d3c447b33da8",
   "metadata": {},
   "outputs": [
    {
     "data": {
      "text/html": [
       "<div>\n",
       "<style scoped>\n",
       "    .dataframe tbody tr th:only-of-type {\n",
       "        vertical-align: middle;\n",
       "    }\n",
       "\n",
       "    .dataframe tbody tr th {\n",
       "        vertical-align: top;\n",
       "    }\n",
       "\n",
       "    .dataframe thead th {\n",
       "        text-align: right;\n",
       "    }\n",
       "</style>\n",
       "<table border=\"1\" class=\"dataframe\">\n",
       "  <thead>\n",
       "    <tr style=\"text-align: right;\">\n",
       "      <th></th>\n",
       "      <th>コミュニケーション</th>\n",
       "      <th>リーダーシップ</th>\n",
       "      <th>プログラミング</th>\n",
       "      <th>ネットワーク知識</th>\n",
       "      <th>セキュリティ知識</th>\n",
       "    </tr>\n",
       "    <tr>\n",
       "      <th>グループ名</th>\n",
       "      <th></th>\n",
       "      <th></th>\n",
       "      <th></th>\n",
       "      <th></th>\n",
       "      <th></th>\n",
       "    </tr>\n",
       "  </thead>\n",
       "  <tbody>\n",
       "    <tr>\n",
       "      <th>0</th>\n",
       "      <td>9.000000</td>\n",
       "      <td>9.25</td>\n",
       "      <td>6.250000</td>\n",
       "      <td>6.750000</td>\n",
       "      <td>8.000000</td>\n",
       "    </tr>\n",
       "    <tr>\n",
       "      <th>1</th>\n",
       "      <td>2.333333</td>\n",
       "      <td>2.00</td>\n",
       "      <td>4.333333</td>\n",
       "      <td>4.000000</td>\n",
       "      <td>3.666667</td>\n",
       "    </tr>\n",
       "    <tr>\n",
       "      <th>2</th>\n",
       "      <td>6.666667</td>\n",
       "      <td>6.00</td>\n",
       "      <td>9.333333</td>\n",
       "      <td>9.333333</td>\n",
       "      <td>8.333333</td>\n",
       "    </tr>\n",
       "    <tr>\n",
       "      <th>3</th>\n",
       "      <td>5.000000</td>\n",
       "      <td>4.00</td>\n",
       "      <td>6.200000</td>\n",
       "      <td>6.200000</td>\n",
       "      <td>6.400000</td>\n",
       "    </tr>\n",
       "  </tbody>\n",
       "</table>\n",
       "</div>"
      ],
      "text/plain": [
       "       コミュニケーション  リーダーシップ   プログラミング  ネットワーク知識  セキュリティ知識\n",
       "グループ名                                                  \n",
       "0       9.000000     9.25  6.250000  6.750000  8.000000\n",
       "1       2.333333     2.00  4.333333  4.000000  3.666667\n",
       "2       6.666667     6.00  9.333333  9.333333  8.333333\n",
       "3       5.000000     4.00  6.200000  6.200000  6.400000"
      ]
     },
     "execution_count": 29,
     "metadata": {},
     "output_type": "execute_result"
    }
   ],
   "source": [
    "df_calc = df.copy()\n",
    "df_calc['グループ名'] = group_num\n",
    "df_calc.groupby('グループ名').mean()"
   ]
  },
  {
   "cell_type": "markdown",
   "id": "f6aeb65d-d3f1-4afc-9ddc-701db56393a2",
   "metadata": {},
   "source": [
    "+ グループ0に属している人はITスキルが強い、ということが分かる"
   ]
  },
  {
   "cell_type": "markdown",
   "id": "ace542e2-5094-480e-9a83-80697a1cbdd8",
   "metadata": {},
   "source": [
    "> 二次元上に写せたら見やすい"
   ]
  },
  {
   "cell_type": "code",
   "execution_count": 30,
   "id": "6a89d502-d8d2-40d6-9157-71eb7f73a21c",
   "metadata": {},
   "outputs": [],
   "source": [
    "model_svd = TruncatedSVD(n_components=2)\n",
    "vector = model_svd.fit_transform(df)"
   ]
  },
  {
   "cell_type": "code",
   "execution_count": 31,
   "id": "ba435509-5edd-439b-8312-6a2fefb21188",
   "metadata": {},
   "outputs": [
    {
     "data": {
      "image/png": "[encoded data removed]",
      "text/plain": [
       "<Figure size 432x432 with 1 Axes>"
      ]
     },
     "metadata": {},
     "output_type": "display_data"
    }
   ],
   "source": [
    "X = vector[:, 0]\n",
    "Y = vector[:, 1]\n",
    "\n",
    "sns.set(font='Hiragino Maru Gothic Pro')\n",
    "plt.figure(figsize=(6, 6))\n",
    "sns.scatterplot(x=X, y=Y)\n",
    "\n",
    "#色を付ける\n",
    "color_codes = {0:\"red\", 1:\"blue\", 2:\"green\", 3:\"yellow\"}\n",
    "colors = [color_codes[i] for i in group_num]\n",
    "plt.scatter(X, Y , color=colors)\n",
    "\n",
    "for i, (x_i, y_i) in enumerate(zip(X, Y)):\n",
    "    plt.annotate(df.index[i], (x_i, y_i))\n",
    "plt.show()"
   ]
  },
  {
   "cell_type": "markdown",
   "id": "0732a69d-bedb-4a02-a8aa-56d4a4eaec04",
   "metadata": {},
   "source": [
    "> 近いところは近い色"
   ]
  }
 ],
 "metadata": {
  "kernelspec": {
   "display_name": "Python 3 (ipykernel)",
   "language": "python",
   "name": "python3"
  },
  "language_info": {
   "codemirror_mode": {
    "name": "ipython",
    "version": 3
   },
   "file_extension": ".py",
   "mimetype": "text/x-python",
   "name": "python",
   "nbconvert_exporter": "python",
   "pygments_lexer": "ipython3",
   "version": "3.9.12"
  }
 },
 "nbformat": 4,
 "nbformat_minor": 5
}
