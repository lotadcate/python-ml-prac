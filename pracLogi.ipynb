{
 "cells": [
  {
   "cell_type": "markdown",
   "id": "3b70eb95-1ced-46e5-8d78-353cb54621a1",
   "metadata": {},
   "source": [
    "# ロジスティック回帰"
   ]
  },
  {
   "cell_type": "markdown",
   "id": "ded56e70-1305-46e7-9ebb-95a5a86e8839",
   "metadata": {},
   "source": [
    "> 目的が２値（0、１）の時に使うと良い、その間は確率になる"
   ]
  },
  {
   "cell_type": "code",
   "execution_count": 2,
   "id": "2d0974d0-b593-479d-9c6a-8c140bd4c5bd",
   "metadata": {},
   "outputs": [],
   "source": [
    "import pandas as pd\n",
    "import numpy as np"
   ]
  },
  {
   "cell_type": "code",
   "execution_count": 4,
   "id": "0b0258f1-c481-4da1-9315-418a77b2c04f",
   "metadata": {},
   "outputs": [],
   "source": [
    "df_past = pd.read_csv('4-5_user_data.csv')\n",
    "df_future = pd.read_csv('4-5_user_data_future.csv')"
   ]
  },
  {
   "cell_type": "code",
   "execution_count": 6,
   "id": "a9b85a56-e334-4b58-ab12-321ecd23dabc",
   "metadata": {},
   "outputs": [
    {
     "data": {
      "text/plain": [
       "Index(['sex', 'student', 'stay time', 'registration'], dtype='object')"
      ]
     },
     "execution_count": 6,
     "metadata": {},
     "output_type": "execute_result"
    }
   ],
   "source": [
    "df_past.columns"
   ]
  },
  {
   "cell_type": "code",
   "execution_count": 8,
   "id": "d46e1cde-0b20-44c4-a185-1c80a61c3817",
   "metadata": {},
   "outputs": [],
   "source": [
    "X = df_past[['sex', 'student', 'stay time']]\n",
    "y = df_past['registration']"
   ]
  },
  {
   "cell_type": "code",
   "execution_count": 11,
   "id": "f692528b-1b11-4aa2-82bf-b37ccfd0495d",
   "metadata": {},
   "outputs": [
    {
     "name": "stdout",
     "output_type": "stream",
     "text": [
      "Optimization terminated successfully.\n",
      "         Current function value: 0.490364\n",
      "         Iterations 6\n"
     ]
    },
    {
     "data": {
      "text/html": [
       "<table class=\"simpletable\">\n",
       "<caption>Logit Regression Results</caption>\n",
       "<tr>\n",
       "  <th>Dep. Variable:</th>     <td>registration</td>   <th>  No. Observations:  </th>  <td>    40</td> \n",
       "</tr>\n",
       "<tr>\n",
       "  <th>Model:</th>                 <td>Logit</td>      <th>  Df Residuals:      </th>  <td>    36</td> \n",
       "</tr>\n",
       "<tr>\n",
       "  <th>Method:</th>                 <td>MLE</td>       <th>  Df Model:          </th>  <td>     3</td> \n",
       "</tr>\n",
       "<tr>\n",
       "  <th>Date:</th>            <td>Sat, 28 May 2022</td> <th>  Pseudo R-squ.:     </th>  <td>0.2588</td> \n",
       "</tr>\n",
       "<tr>\n",
       "  <th>Time:</th>                <td>16:35:59</td>     <th>  Log-Likelihood:    </th> <td> -19.615</td>\n",
       "</tr>\n",
       "<tr>\n",
       "  <th>converged:</th>             <td>True</td>       <th>  LL-Null:           </th> <td> -26.463</td>\n",
       "</tr>\n",
       "<tr>\n",
       "  <th>Covariance Type:</th>     <td>nonrobust</td>    <th>  LLR p-value:       </th> <td>0.003350</td>\n",
       "</tr>\n",
       "</table>\n",
       "<table class=\"simpletable\">\n",
       "<tr>\n",
       "      <td></td>         <th>coef</th>     <th>std err</th>      <th>z</th>      <th>P>|z|</th>  <th>[0.025</th>    <th>0.975]</th>  \n",
       "</tr>\n",
       "<tr>\n",
       "  <th>const</th>     <td>   -4.2982</td> <td>    1.555</td> <td>   -2.764</td> <td> 0.006</td> <td>   -7.346</td> <td>   -1.250</td>\n",
       "</tr>\n",
       "<tr>\n",
       "  <th>sex</th>       <td>    0.5251</td> <td>    0.842</td> <td>    0.624</td> <td> 0.533</td> <td>   -1.124</td> <td>    2.174</td>\n",
       "</tr>\n",
       "<tr>\n",
       "  <th>student</th>   <td>    2.0147</td> <td>    0.841</td> <td>    2.396</td> <td> 0.017</td> <td>    0.367</td> <td>    3.663</td>\n",
       "</tr>\n",
       "<tr>\n",
       "  <th>stay time</th> <td>    0.0390</td> <td>    0.019</td> <td>    2.087</td> <td> 0.037</td> <td>    0.002</td> <td>    0.076</td>\n",
       "</tr>\n",
       "</table>"
      ],
      "text/plain": [
       "<class 'statsmodels.iolib.summary.Summary'>\n",
       "\"\"\"\n",
       "                           Logit Regression Results                           \n",
       "==============================================================================\n",
       "Dep. Variable:           registration   No. Observations:                   40\n",
       "Model:                          Logit   Df Residuals:                       36\n",
       "Method:                           MLE   Df Model:                            3\n",
       "Date:                Sat, 28 May 2022   Pseudo R-squ.:                  0.2588\n",
       "Time:                        16:35:59   Log-Likelihood:                -19.615\n",
       "converged:                       True   LL-Null:                       -26.463\n",
       "Covariance Type:            nonrobust   LLR p-value:                  0.003350\n",
       "==============================================================================\n",
       "                 coef    std err          z      P>|z|      [0.025      0.975]\n",
       "------------------------------------------------------------------------------\n",
       "const         -4.2982      1.555     -2.764      0.006      -7.346      -1.250\n",
       "sex            0.5251      0.842      0.624      0.533      -1.124       2.174\n",
       "student        2.0147      0.841      2.396      0.017       0.367       3.663\n",
       "stay time      0.0390      0.019      2.087      0.037       0.002       0.076\n",
       "==============================================================================\n",
       "\"\"\""
      ]
     },
     "execution_count": 11,
     "metadata": {},
     "output_type": "execute_result"
    }
   ],
   "source": [
    "import statsmodels.api as sm\n",
    "from sklearn.linear_model import LogisticRegression\n",
    "\n",
    "model = sm.Logit(y, sm.add_constant(X))\n",
    "result = model.fit()\n",
    "result.summary()"
   ]
  },
  {
   "cell_type": "code",
   "execution_count": 12,
   "id": "2a03d121-792b-4e44-ae6c-8d9f0cf7b7d2",
   "metadata": {},
   "outputs": [
    {
     "name": "stdout",
     "output_type": "stream",
     "text": [
      "Optimization terminated successfully.\n",
      "         Current function value: 0.495333\n",
      "         Iterations 6\n"
     ]
    },
    {
     "data": {
      "text/html": [
       "<table class=\"simpletable\">\n",
       "<caption>Logit Regression Results</caption>\n",
       "<tr>\n",
       "  <th>Dep. Variable:</th>     <td>registration</td>   <th>  No. Observations:  </th>  <td>    40</td> \n",
       "</tr>\n",
       "<tr>\n",
       "  <th>Model:</th>                 <td>Logit</td>      <th>  Df Residuals:      </th>  <td>    37</td> \n",
       "</tr>\n",
       "<tr>\n",
       "  <th>Method:</th>                 <td>MLE</td>       <th>  Df Model:          </th>  <td>     2</td> \n",
       "</tr>\n",
       "<tr>\n",
       "  <th>Date:</th>            <td>Sat, 28 May 2022</td> <th>  Pseudo R-squ.:     </th>  <td>0.2513</td> \n",
       "</tr>\n",
       "<tr>\n",
       "  <th>Time:</th>                <td>16:37:17</td>     <th>  Log-Likelihood:    </th> <td> -19.813</td>\n",
       "</tr>\n",
       "<tr>\n",
       "  <th>converged:</th>             <td>True</td>       <th>  LL-Null:           </th> <td> -26.463</td>\n",
       "</tr>\n",
       "<tr>\n",
       "  <th>Covariance Type:</th>     <td>nonrobust</td>    <th>  LLR p-value:       </th> <td>0.001295</td>\n",
       "</tr>\n",
       "</table>\n",
       "<table class=\"simpletable\">\n",
       "<tr>\n",
       "      <td></td>         <th>coef</th>     <th>std err</th>      <th>z</th>      <th>P>|z|</th>  <th>[0.025</th>    <th>0.975]</th>  \n",
       "</tr>\n",
       "<tr>\n",
       "  <th>const</th>     <td>   -4.1094</td> <td>    1.507</td> <td>   -2.728</td> <td> 0.006</td> <td>   -7.062</td> <td>   -1.157</td>\n",
       "</tr>\n",
       "<tr>\n",
       "  <th>student</th>   <td>    1.8831</td> <td>    0.798</td> <td>    2.361</td> <td> 0.018</td> <td>    0.320</td> <td>    3.447</td>\n",
       "</tr>\n",
       "<tr>\n",
       "  <th>stay time</th> <td>    0.0403</td> <td>    0.018</td> <td>    2.188</td> <td> 0.029</td> <td>    0.004</td> <td>    0.076</td>\n",
       "</tr>\n",
       "</table>"
      ],
      "text/plain": [
       "<class 'statsmodels.iolib.summary.Summary'>\n",
       "\"\"\"\n",
       "                           Logit Regression Results                           \n",
       "==============================================================================\n",
       "Dep. Variable:           registration   No. Observations:                   40\n",
       "Model:                          Logit   Df Residuals:                       37\n",
       "Method:                           MLE   Df Model:                            2\n",
       "Date:                Sat, 28 May 2022   Pseudo R-squ.:                  0.2513\n",
       "Time:                        16:37:17   Log-Likelihood:                -19.813\n",
       "converged:                       True   LL-Null:                       -26.463\n",
       "Covariance Type:            nonrobust   LLR p-value:                  0.001295\n",
       "==============================================================================\n",
       "                 coef    std err          z      P>|z|      [0.025      0.975]\n",
       "------------------------------------------------------------------------------\n",
       "const         -4.1094      1.507     -2.728      0.006      -7.062      -1.157\n",
       "student        1.8831      0.798      2.361      0.018       0.320       3.447\n",
       "stay time      0.0403      0.018      2.188      0.029       0.004       0.076\n",
       "==============================================================================\n",
       "\"\"\""
      ]
     },
     "execution_count": 12,
     "metadata": {},
     "output_type": "execute_result"
    }
   ],
   "source": [
    "X = df_past[['student', 'stay time']]\n",
    "y = df_past['registration']\n",
    "model = sm.Logit(y, sm.add_constant(X))\n",
    "result = model.fit()\n",
    "result.summary()"
   ]
  },
  {
   "cell_type": "code",
   "execution_count": 14,
   "id": "ad88ff96-f443-45fd-a39a-daa6d14b8035",
   "metadata": {},
   "outputs": [
    {
     "data": {
      "text/plain": [
       "0    0.617041\n",
       "1    0.292847\n",
       "2    0.034132\n",
       "3    0.815431\n",
       "4    0.508296\n",
       "5    0.082051\n",
       "6    0.461241\n",
       "7    0.715211\n",
       "8    0.382695\n",
       "9    0.607463\n",
       "dtype: float64"
      ]
     },
     "execution_count": 14,
     "metadata": {},
     "output_type": "execute_result"
    }
   ],
   "source": [
    "result.predict(sm.add_constant(df_future[['student', 'stay time']]))"
   ]
  },
  {
   "cell_type": "code",
   "execution_count": 15,
   "id": "178ebf8d-2935-4db9-973f-69deffa46b9e",
   "metadata": {},
   "outputs": [
    {
     "data": {
      "text/html": [
       "<div>\n",
       "<style scoped>\n",
       "    .dataframe tbody tr th:only-of-type {\n",
       "        vertical-align: middle;\n",
       "    }\n",
       "\n",
       "    .dataframe tbody tr th {\n",
       "        vertical-align: top;\n",
       "    }\n",
       "\n",
       "    .dataframe thead th {\n",
       "        text-align: right;\n",
       "    }\n",
       "</style>\n",
       "<table border=\"1\" class=\"dataframe\">\n",
       "  <thead>\n",
       "    <tr style=\"text-align: right;\">\n",
       "      <th></th>\n",
       "      <th>student</th>\n",
       "      <th>stay time</th>\n",
       "    </tr>\n",
       "  </thead>\n",
       "  <tbody>\n",
       "    <tr>\n",
       "      <th>0</th>\n",
       "      <td>1</td>\n",
       "      <td>67</td>\n",
       "    </tr>\n",
       "    <tr>\n",
       "      <th>1</th>\n",
       "      <td>0</td>\n",
       "      <td>80</td>\n",
       "    </tr>\n",
       "    <tr>\n",
       "      <th>2</th>\n",
       "      <td>0</td>\n",
       "      <td>19</td>\n",
       "    </tr>\n",
       "    <tr>\n",
       "      <th>3</th>\n",
       "      <td>1</td>\n",
       "      <td>92</td>\n",
       "    </tr>\n",
       "    <tr>\n",
       "      <th>4</th>\n",
       "      <td>1</td>\n",
       "      <td>56</td>\n",
       "    </tr>\n",
       "    <tr>\n",
       "      <th>5</th>\n",
       "      <td>0</td>\n",
       "      <td>42</td>\n",
       "    </tr>\n",
       "    <tr>\n",
       "      <th>6</th>\n",
       "      <td>0</td>\n",
       "      <td>98</td>\n",
       "    </tr>\n",
       "    <tr>\n",
       "      <th>7</th>\n",
       "      <td>1</td>\n",
       "      <td>78</td>\n",
       "    </tr>\n",
       "    <tr>\n",
       "      <th>8</th>\n",
       "      <td>0</td>\n",
       "      <td>90</td>\n",
       "    </tr>\n",
       "    <tr>\n",
       "      <th>9</th>\n",
       "      <td>1</td>\n",
       "      <td>66</td>\n",
       "    </tr>\n",
       "  </tbody>\n",
       "</table>\n",
       "</div>"
      ],
      "text/plain": [
       "   student  stay time\n",
       "0        1         67\n",
       "1        0         80\n",
       "2        0         19\n",
       "3        1         92\n",
       "4        1         56\n",
       "5        0         42\n",
       "6        0         98\n",
       "7        1         78\n",
       "8        0         90\n",
       "9        1         66"
      ]
     },
     "execution_count": 15,
     "metadata": {},
     "output_type": "execute_result"
    }
   ],
   "source": [
    "df_future[['student', 'stay time']]"
   ]
  }
 ],
 "metadata": {
  "kernelspec": {
   "display_name": "Python 3 (ipykernel)",
   "language": "python",
   "name": "python3"
  },
  "language_info": {
   "codemirror_mode": {
    "name": "ipython",
    "version": 3
   },
   "file_extension": ".py",
   "mimetype": "text/x-python",
   "name": "python",
   "nbconvert_exporter": "python",
   "pygments_lexer": "ipython3",
   "version": "3.9.12"
  }
 },
 "nbformat": 4,
 "nbformat_minor": 5
}
