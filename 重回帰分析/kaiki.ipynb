{
 "cells": [
  {
   "cell_type": "markdown",
   "id": "37d5c242-6c8d-431b-b574-98757026aefd",
   "metadata": {},
   "source": [
    "# 回帰分析\n",
    "> 教示あり学習\n",
    "\n",
    "> 説明変数が１つ　…　単回帰分析\n",
    "\n",
    "> 説明変数が複数　…　重回帰分析"
   ]
  },
  {
   "cell_type": "code",
   "execution_count": 1,
   "id": "868f430f-f805-4181-ba0c-cd8eee064a79",
   "metadata": {},
   "outputs": [],
   "source": [
    "import pandas as pd\n",
    "import numpy as np\n",
    "import seaborn as sns"
   ]
  },
  {
   "cell_type": "code",
   "execution_count": 3,
   "id": "1f1e7b8f-221a-4861-a4e7-a58d321ba46e",
   "metadata": {},
   "outputs": [],
   "source": [
    "df_past = pd.read_csv('4-4_sales.csv')\n",
    "df_future = pd.read_csv('4-4_sales_future.csv')"
   ]
  },
  {
   "cell_type": "code",
   "execution_count": 4,
   "id": "1de60d79-a00a-48d6-bc5a-e33cc9e6b698",
   "metadata": {},
   "outputs": [
    {
     "data": {
      "text/plain": [
       "Index(['temperature', 'price', 'rainy', 'sales'], dtype='object')"
      ]
     },
     "execution_count": 4,
     "metadata": {},
     "output_type": "execute_result"
    }
   ],
   "source": [
    "df_past.columns"
   ]
  },
  {
   "cell_type": "code",
   "execution_count": 5,
   "id": "d0927044-d652-428e-9a0f-d38c144f209b",
   "metadata": {},
   "outputs": [],
   "source": [
    "# 説明変数、非説明変数\n",
    "X = df_past[['temperature', 'price', 'rainy']]\n",
    "y = df_past['sales']"
   ]
  },
  {
   "cell_type": "code",
   "execution_count": 14,
   "id": "b350158c-18b4-49aa-b2c9-762471f31fb6",
   "metadata": {},
   "outputs": [
    {
     "data": {
      "text/html": [
       "<table class=\"simpletable\">\n",
       "<caption>OLS Regression Results</caption>\n",
       "<tr>\n",
       "  <th>Dep. Variable:</th>          <td>sales</td>      <th>  R-squared:         </th> <td>   0.840</td>\n",
       "</tr>\n",
       "<tr>\n",
       "  <th>Model:</th>                   <td>OLS</td>       <th>  Adj. R-squared:    </th> <td>   0.825</td>\n",
       "</tr>\n",
       "<tr>\n",
       "  <th>Method:</th>             <td>Least Squares</td>  <th>  F-statistic:       </th> <td>   55.83</td>\n",
       "</tr>\n",
       "<tr>\n",
       "  <th>Date:</th>             <td>Sat, 28 May 2022</td> <th>  Prob (F-statistic):</th> <td>8.19e-13</td>\n",
       "</tr>\n",
       "<tr>\n",
       "  <th>Time:</th>                 <td>15:41:44</td>     <th>  Log-Likelihood:    </th> <td> -225.71</td>\n",
       "</tr>\n",
       "<tr>\n",
       "  <th>No. Observations:</th>      <td>    36</td>      <th>  AIC:               </th> <td>   459.4</td>\n",
       "</tr>\n",
       "<tr>\n",
       "  <th>Df Residuals:</th>          <td>    32</td>      <th>  BIC:               </th> <td>   465.8</td>\n",
       "</tr>\n",
       "<tr>\n",
       "  <th>Df Model:</th>              <td>     3</td>      <th>                     </th>     <td> </td>   \n",
       "</tr>\n",
       "<tr>\n",
       "  <th>Covariance Type:</th>      <td>nonrobust</td>    <th>                     </th>     <td> </td>   \n",
       "</tr>\n",
       "</table>\n",
       "<table class=\"simpletable\">\n",
       "<tr>\n",
       "       <td></td>          <th>coef</th>     <th>std err</th>      <th>t</th>      <th>P>|t|</th>  <th>[0.025</th>    <th>0.975]</th>  \n",
       "</tr>\n",
       "<tr>\n",
       "  <th>const</th>       <td> -340.9653</td> <td>  303.596</td> <td>   -1.123</td> <td> 0.270</td> <td> -959.371</td> <td>  277.440</td>\n",
       "</tr>\n",
       "<tr>\n",
       "  <th>temperature</th> <td>   48.2076</td> <td>    4.818</td> <td>   10.005</td> <td> 0.000</td> <td>   38.393</td> <td>   58.022</td>\n",
       "</tr>\n",
       "<tr>\n",
       "  <th>price</th>       <td>    1.1667</td> <td>    1.314</td> <td>    0.888</td> <td> 0.381</td> <td>   -1.511</td> <td>    3.844</td>\n",
       "</tr>\n",
       "<tr>\n",
       "  <th>rainy</th>       <td>  193.0358</td> <td>   77.940</td> <td>    2.477</td> <td> 0.019</td> <td>   34.277</td> <td>  351.794</td>\n",
       "</tr>\n",
       "</table>\n",
       "<table class=\"simpletable\">\n",
       "<tr>\n",
       "  <th>Omnibus:</th>       <td> 1.521</td> <th>  Durbin-Watson:     </th> <td>   1.822</td>\n",
       "</tr>\n",
       "<tr>\n",
       "  <th>Prob(Omnibus):</th> <td> 0.467</td> <th>  Jarque-Bera (JB):  </th> <td>   1.072</td>\n",
       "</tr>\n",
       "<tr>\n",
       "  <th>Skew:</th>          <td>-0.112</td> <th>  Prob(JB):          </th> <td>   0.585</td>\n",
       "</tr>\n",
       "<tr>\n",
       "  <th>Kurtosis:</th>      <td> 2.185</td> <th>  Cond. No.          </th> <td>2.82e+03</td>\n",
       "</tr>\n",
       "</table><br/><br/>Notes:<br/>[1] Standard Errors assume that the covariance matrix of the errors is correctly specified.<br/>[2] The condition number is large, 2.82e+03. This might indicate that there are<br/>strong multicollinearity or other numerical problems."
      ],
      "text/plain": [
       "<class 'statsmodels.iolib.summary.Summary'>\n",
       "\"\"\"\n",
       "                            OLS Regression Results                            \n",
       "==============================================================================\n",
       "Dep. Variable:                  sales   R-squared:                       0.840\n",
       "Model:                            OLS   Adj. R-squared:                  0.825\n",
       "Method:                 Least Squares   F-statistic:                     55.83\n",
       "Date:                Sat, 28 May 2022   Prob (F-statistic):           8.19e-13\n",
       "Time:                        15:41:44   Log-Likelihood:                -225.71\n",
       "No. Observations:                  36   AIC:                             459.4\n",
       "Df Residuals:                      32   BIC:                             465.8\n",
       "Df Model:                           3                                         \n",
       "Covariance Type:            nonrobust                                         \n",
       "===============================================================================\n",
       "                  coef    std err          t      P>|t|      [0.025      0.975]\n",
       "-------------------------------------------------------------------------------\n",
       "const        -340.9653    303.596     -1.123      0.270    -959.371     277.440\n",
       "temperature    48.2076      4.818     10.005      0.000      38.393      58.022\n",
       "price           1.1667      1.314      0.888      0.381      -1.511       3.844\n",
       "rainy         193.0358     77.940      2.477      0.019      34.277     351.794\n",
       "==============================================================================\n",
       "Omnibus:                        1.521   Durbin-Watson:                   1.822\n",
       "Prob(Omnibus):                  0.467   Jarque-Bera (JB):                1.072\n",
       "Skew:                          -0.112   Prob(JB):                        0.585\n",
       "Kurtosis:                       2.185   Cond. No.                     2.82e+03\n",
       "==============================================================================\n",
       "\n",
       "Notes:\n",
       "[1] Standard Errors assume that the covariance matrix of the errors is correctly specified.\n",
       "[2] The condition number is large, 2.82e+03. This might indicate that there are\n",
       "strong multicollinearity or other numerical problems.\n",
       "\"\"\""
      ]
     },
     "execution_count": 14,
     "metadata": {},
     "output_type": "execute_result"
    }
   ],
   "source": [
    "import statsmodels.api as sm\n",
    "\n",
    "# 一次関数\n",
    "model = sm.OLS(y, sm.add_constant(X))\n",
    "result = model.fit()\n",
    "result.summary() "
   ]
  },
  {
   "cell_type": "markdown",
   "id": "ecd4272c-6c17-4e05-b4f7-fb00da971475",
   "metadata": {},
   "source": [
    "```python\n",
    "sales = 48.2076*temperature + \n",
    "        1.16671*price + \n",
    "        93.0358*rainy(flag) + \n",
    "        -340.9653\n",
    "```"
   ]
  },
  {
   "cell_type": "markdown",
   "id": "68babff2-e777-4aa1-adfa-eec614881b29",
   "metadata": {},
   "source": [
    "> P>|t| ... この係数がどれだけ信頼できるか、0.05より上か下か\n",
    "\n",
    "-> price がない方がいいかも\n",
    "\n",
    "結果を見て調整していく\n",
    "\n",
    "> $R^2$値 ... 回帰分析の当てはまりの良さ\n",
    "\n",
    "__Adj. R-squared__ （自由度調整済み$R^2$値）を見る"
   ]
  },
  {
   "cell_type": "code",
   "execution_count": 18,
   "id": "eeea3287-5f12-4daf-b293-6c3b73099849",
   "metadata": {},
   "outputs": [
    {
     "data": {
      "text/html": [
       "<table class=\"simpletable\">\n",
       "<caption>OLS Regression Results</caption>\n",
       "<tr>\n",
       "  <th>Dep. Variable:</th>          <td>sales</td>      <th>  R-squared:         </th> <td>   0.836</td>\n",
       "</tr>\n",
       "<tr>\n",
       "  <th>Model:</th>                   <td>OLS</td>       <th>  Adj. R-squared:    </th> <td>   0.826</td>\n",
       "</tr>\n",
       "<tr>\n",
       "  <th>Method:</th>             <td>Least Squares</td>  <th>  F-statistic:       </th> <td>   83.88</td>\n",
       "</tr>\n",
       "<tr>\n",
       "  <th>Date:</th>             <td>Sat, 28 May 2022</td> <th>  Prob (F-statistic):</th> <td>1.15e-13</td>\n",
       "</tr>\n",
       "<tr>\n",
       "  <th>Time:</th>                 <td>16:05:04</td>     <th>  Log-Likelihood:    </th> <td> -226.15</td>\n",
       "</tr>\n",
       "<tr>\n",
       "  <th>No. Observations:</th>      <td>    36</td>      <th>  AIC:               </th> <td>   458.3</td>\n",
       "</tr>\n",
       "<tr>\n",
       "  <th>Df Residuals:</th>          <td>    33</td>      <th>  BIC:               </th> <td>   463.0</td>\n",
       "</tr>\n",
       "<tr>\n",
       "  <th>Df Model:</th>              <td>     2</td>      <th>                     </th>     <td> </td>   \n",
       "</tr>\n",
       "<tr>\n",
       "  <th>Covariance Type:</th>      <td>nonrobust</td>    <th>                     </th>     <td> </td>   \n",
       "</tr>\n",
       "</table>\n",
       "<table class=\"simpletable\">\n",
       "<tr>\n",
       "       <td></td>          <th>coef</th>     <th>std err</th>      <th>t</th>      <th>P>|t|</th>  <th>[0.025</th>    <th>0.975]</th>  \n",
       "</tr>\n",
       "<tr>\n",
       "  <th>const</th>       <td>  -86.2107</td> <td>   98.682</td> <td>   -0.874</td> <td> 0.389</td> <td> -286.980</td> <td>  114.559</td>\n",
       "</tr>\n",
       "<tr>\n",
       "  <th>temperature</th> <td>   47.6485</td> <td>    4.762</td> <td>   10.007</td> <td> 0.000</td> <td>   37.961</td> <td>   57.336</td>\n",
       "</tr>\n",
       "<tr>\n",
       "  <th>rainy</th>       <td>  178.0815</td> <td>   75.852</td> <td>    2.348</td> <td> 0.025</td> <td>   23.759</td> <td>  332.404</td>\n",
       "</tr>\n",
       "</table>\n",
       "<table class=\"simpletable\">\n",
       "<tr>\n",
       "  <th>Omnibus:</th>       <td> 3.161</td> <th>  Durbin-Watson:     </th> <td>   1.821</td>\n",
       "</tr>\n",
       "<tr>\n",
       "  <th>Prob(Omnibus):</th> <td> 0.206</td> <th>  Jarque-Bera (JB):  </th> <td>   1.483</td>\n",
       "</tr>\n",
       "<tr>\n",
       "  <th>Skew:</th>          <td> 0.031</td> <th>  Prob(JB):          </th> <td>   0.476</td>\n",
       "</tr>\n",
       "<tr>\n",
       "  <th>Kurtosis:</th>      <td> 2.008</td> <th>  Cond. No.          </th> <td>    94.6</td>\n",
       "</tr>\n",
       "</table><br/><br/>Notes:<br/>[1] Standard Errors assume that the covariance matrix of the errors is correctly specified."
      ],
      "text/plain": [
       "<class 'statsmodels.iolib.summary.Summary'>\n",
       "\"\"\"\n",
       "                            OLS Regression Results                            \n",
       "==============================================================================\n",
       "Dep. Variable:                  sales   R-squared:                       0.836\n",
       "Model:                            OLS   Adj. R-squared:                  0.826\n",
       "Method:                 Least Squares   F-statistic:                     83.88\n",
       "Date:                Sat, 28 May 2022   Prob (F-statistic):           1.15e-13\n",
       "Time:                        16:05:04   Log-Likelihood:                -226.15\n",
       "No. Observations:                  36   AIC:                             458.3\n",
       "Df Residuals:                      33   BIC:                             463.0\n",
       "Df Model:                           2                                         \n",
       "Covariance Type:            nonrobust                                         \n",
       "===============================================================================\n",
       "                  coef    std err          t      P>|t|      [0.025      0.975]\n",
       "-------------------------------------------------------------------------------\n",
       "const         -86.2107     98.682     -0.874      0.389    -286.980     114.559\n",
       "temperature    47.6485      4.762     10.007      0.000      37.961      57.336\n",
       "rainy         178.0815     75.852      2.348      0.025      23.759     332.404\n",
       "==============================================================================\n",
       "Omnibus:                        3.161   Durbin-Watson:                   1.821\n",
       "Prob(Omnibus):                  0.206   Jarque-Bera (JB):                1.483\n",
       "Skew:                           0.031   Prob(JB):                        0.476\n",
       "Kurtosis:                       2.008   Cond. No.                         94.6\n",
       "==============================================================================\n",
       "\n",
       "Notes:\n",
       "[1] Standard Errors assume that the covariance matrix of the errors is correctly specified.\n",
       "\"\"\""
      ]
     },
     "execution_count": 18,
     "metadata": {},
     "output_type": "execute_result"
    }
   ],
   "source": [
    "# remove price\n",
    "X = df_past[['temperature', 'rainy']]\n",
    "y = df_past['sales']\n",
    "\n",
    "\n",
    "model = sm.OLS(y, sm.add_constant(X)) # 切片あり：sm.add_constant（）\n",
    "result = model.fit()\n",
    "result.summary()"
   ]
  },
  {
   "cell_type": "markdown",
   "id": "983ab977-3d21-4b62-9ddf-e8bac6e728e1",
   "metadata": {},
   "source": [
    "多重共線性に注意（rainyの他にsunnyを入れてしまうとか）"
   ]
  },
  {
   "cell_type": "code",
   "execution_count": 19,
   "id": "68bbef89-2dfa-40d0-a085-db85726fc6e2",
   "metadata": {},
   "outputs": [
    {
     "data": {
      "text/plain": [
       "0    692.242462\n",
       "1    804.817001\n",
       "2    399.804427\n",
       "3    811.363808\n",
       "4    890.584370\n",
       "dtype: float64"
      ]
     },
     "execution_count": 19,
     "metadata": {},
     "output_type": "execute_result"
    }
   ],
   "source": [
    "# predict\n",
    "result.predict(sm.add_constant(df_future[['temperature', 'rainy']]))"
   ]
  },
  {
   "cell_type": "code",
   "execution_count": 20,
   "id": "46226fdb-0790-448e-8584-e02a326e000f",
   "metadata": {},
   "outputs": [
    {
     "data": {
      "text/html": [
       "<div>\n",
       "<style scoped>\n",
       "    .dataframe tbody tr th:only-of-type {\n",
       "        vertical-align: middle;\n",
       "    }\n",
       "\n",
       "    .dataframe tbody tr th {\n",
       "        vertical-align: top;\n",
       "    }\n",
       "\n",
       "    .dataframe thead th {\n",
       "        text-align: right;\n",
       "    }\n",
       "</style>\n",
       "<table border=\"1\" class=\"dataframe\">\n",
       "  <thead>\n",
       "    <tr style=\"text-align: right;\">\n",
       "      <th></th>\n",
       "      <th>temperature</th>\n",
       "      <th>rainy</th>\n",
       "    </tr>\n",
       "  </thead>\n",
       "  <tbody>\n",
       "    <tr>\n",
       "      <th>0</th>\n",
       "      <td>12.6</td>\n",
       "      <td>1</td>\n",
       "    </tr>\n",
       "    <tr>\n",
       "      <th>1</th>\n",
       "      <td>18.7</td>\n",
       "      <td>0</td>\n",
       "    </tr>\n",
       "    <tr>\n",
       "      <th>2</th>\n",
       "      <td>10.2</td>\n",
       "      <td>0</td>\n",
       "    </tr>\n",
       "    <tr>\n",
       "      <th>3</th>\n",
       "      <td>15.1</td>\n",
       "      <td>1</td>\n",
       "    </tr>\n",
       "    <tr>\n",
       "      <th>4</th>\n",
       "      <td>20.5</td>\n",
       "      <td>0</td>\n",
       "    </tr>\n",
       "  </tbody>\n",
       "</table>\n",
       "</div>"
      ],
      "text/plain": [
       "   temperature  rainy\n",
       "0         12.6      1\n",
       "1         18.7      0\n",
       "2         10.2      0\n",
       "3         15.1      1\n",
       "4         20.5      0"
      ]
     },
     "execution_count": 20,
     "metadata": {},
     "output_type": "execute_result"
    }
   ],
   "source": [
    "df_future[['temperature', 'rainy']]"
   ]
  }
 ],
 "metadata": {
  "kernelspec": {
   "display_name": "Python 3 (ipykernel)",
   "language": "python",
   "name": "python3"
  },
  "language_info": {
   "codemirror_mode": {
    "name": "ipython",
    "version": 3
   },
   "file_extension": ".py",
   "mimetype": "text/x-python",
   "name": "python",
   "nbconvert_exporter": "python",
   "pygments_lexer": "ipython3",
   "version": "3.9.12"
  }
 },
 "nbformat": 4,
 "nbformat_minor": 5
}
